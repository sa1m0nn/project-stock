{
  "nbformat": 4,
  "nbformat_minor": 0,
  "metadata": {
    "colab": {
      "provenance": []
    },
    "kernelspec": {
      "name": "python3",
      "display_name": "Python 3"
    },
    "language_info": {
      "name": "python"
    }
  },
  "cells": [
    {
      "cell_type": "code",
      "execution_count": 85,
      "metadata": {
        "id": "V3PJK_jc5sNm",
        "colab": {
          "base_uri": "https://localhost:8080/"
        },
        "outputId": "2f121f3b-2a14-423e-ef21-746135e80c47"
      },
      "outputs": [
        {
          "output_type": "stream",
          "name": "stdout",
          "text": [
            "table created\n"
          ]
        }
      ],
      "source": [
        "import sqlite3\n",
        "\n",
        "conn = sqlite3.connect('table') \n",
        "c = conn.cursor()\n",
        "#create table for product_id\n",
        "c.execute('''\n",
        "          CREATE TABLE IF NOT EXISTS products\n",
        "          ([product_id] INTEGER PRIMARY KEY, [product_name] TEXT)\n",
        "          ''')\n",
        "#create table for prices\n",
        "c.execute('''\n",
        "          CREATE TABLE IF NOT EXISTS prices\n",
        "          ([product_id] INTEGER PRIMARY KEY, [price] INTEGER)\n",
        "          ''')\n",
        "#create table for number\n",
        "c.execute('''\n",
        "          CREATE TABLE IF NOT EXISTS numbers\n",
        "          ([product_id] INTEGER PRIMARY KEY, [number] INTEGER)\n",
        "          ''')\n",
        "conn.commit()\n",
        "#show  status\n",
        "print(\"table created\")"
      ]
    },
    {
      "cell_type": "code",
      "source": [
        "x = int(input('x'))\n",
        "import sqlite3\n",
        "\n",
        "conn = sqlite3.connect('table') \n",
        "c = conn.cursor()\n",
        " #insert product name and id                  \n",
        "c.execute(f'''\n",
        "    INSERT OR REPLACE INTO numbers (product_id, number)\n",
        "\n",
        "                VALUES\n",
        "                (1,{x})\n",
        "          ''')\n",
        "conn.commit()\n"
      ],
      "metadata": {
        "colab": {
          "base_uri": "https://localhost:8080/"
        },
        "id": "wYfzLywX6r8v",
        "outputId": "88af239c-3ba6-4ced-8607-10ff64d12ea2"
      },
      "execution_count": 57,
      "outputs": [
        {
          "name": "stdout",
          "output_type": "stream",
          "text": [
            "x56\n"
          ]
        }
      ]
    },
    {
      "cell_type": "code",
      "source": [
        "#test if else\n",
        "x = int(input('x'))\n",
        "if x >= 0:\n",
        "  y = int(input('y'))\n",
        "else: \n",
        "  print(\"false\")\n",
        "if y >= 0:\n",
        "  z = int(input('z'))\n",
        "if z >= 0:\n",
        "  a = int(input('a'))\n",
        "if a >= 0:45    \n",
        "  print(\"correct\")\n",
        "else: \n",
        "  print(\"false\")"
      ],
      "metadata": {
        "colab": {
          "base_uri": "https://localhost:8080/",
          "height": 131
        },
        "id": "0uCG02RcEgGX",
        "outputId": "5c8ebf30-1807-42ab-ff3c-fbf9642db11a"
      },
      "execution_count": null,
      "outputs": [
        {
          "output_type": "error",
          "ename": "IndentationError",
          "evalue": "ignored",
          "traceback": [
            "\u001b[0;36m  File \u001b[0;32m\"<ipython-input-11-5ea8bab4e118>\"\u001b[0;36m, line \u001b[0;32m12\u001b[0m\n\u001b[0;31m    print(\"correct\")\u001b[0m\n\u001b[0m    ^\u001b[0m\n\u001b[0;31mIndentationError\u001b[0m\u001b[0;31m:\u001b[0m unexpected indent\n"
          ]
        }
      ]
    },
    {
      "cell_type": "code",
      "source": [
        "import sqlite3\n",
        "\n",
        "conn = sqlite3.connect('table') \n",
        "c = conn.cursor()\n",
        " #insert product name and id                  \n",
        "c.execute('''\n",
        "          INSERT INTO products (product_id, product_name)\n",
        "\n",
        "                VALUES\n",
        "                (1,'Computer'),\n",
        "                (2,'Printer'),\n",
        "                (3,'Tablet'),\n",
        "                (4,'Desk'),\n",
        "                (5,'Chair')\n",
        "          ''')\n",
        "#insert product id and price\n",
        "c.execute('''\n",
        "          INSERT INTO prices (product_id, price)\n",
        "\n",
        "                VALUES\n",
        "                (1,80),\n",
        "                (2,20),\n",
        "                (3,30),\n",
        "                (4,45),\n",
        "                (5,15)\n",
        "          ''')\n",
        "#insert product id and number\n",
        "c.execute('''\n",
        "            INSERT INTO numbers (product_id, number)\n",
        "          \n",
        "                VALUES\n",
        "                (1,6),\n",
        "                (2,8),\n",
        "                (3,9),\n",
        "                (4,10),\n",
        "                (5,7)          \n",
        "          ''')\n",
        "conn.commit()"
      ],
      "metadata": {
        "id": "8uiz2hm9jA74"
      },
      "execution_count": 55,
      "outputs": []
    },
    {
      "cell_type": "code",
      "source": [
        "#test casae 3 table\n",
        "import sqlite3\n",
        "import pandas as pd\n",
        "\n",
        "conn = sqlite3.connect('table')\n",
        "c = conn.cursor()\n",
        "            #shhhow product_name  price and number\n",
        "c.execute('''\n",
        "            SELECT\n",
        "            a.product_name,\n",
        "            b.price,\n",
        "            d.number\n",
        "            FROM products a\n",
        "            LEFT JOIN prices b ON a.product_id = b.product_id\n",
        "            LEFT JOIN numbers d ON a.product_id = d.product_id\n",
        "            ''')\n",
        "df = pd.DataFrame(c.fetchall(), columns=['product_name','prices','number'])\n",
        "print(df)"
      ],
      "metadata": {
        "colab": {
          "base_uri": "https://localhost:8080/"
        },
        "id": "RK2UNoOniZ0f",
        "outputId": "00d2ef15-2157-4ef7-a517-7c1f1c2caf33"
      },
      "execution_count": 94,
      "outputs": [
        {
          "output_type": "stream",
          "name": "stdout",
          "text": [
            "  product_name  prices  number\n",
            "0     Computer      80    6456\n",
            "1      Printer      20     424\n",
            "2       Tablet      30   53453\n",
            "3         Desk      45   86786\n",
            "4        Chair      15   43434\n"
          ]
        }
      ]
    },
    {
      "cell_type": "code",
      "source": [
        "#loop input product id and number\n",
        "import sqlite3\n",
        "z = int(input('z'))\n",
        "while z == 123:\n",
        "  x = int(input('x'))\n",
        "  y = int(input('y'))\n",
        "  if x and y >= 0:#check x and y\n",
        "    conn = sqlite3.connect('table') \n",
        "    c = conn.cursor()\n",
        "    #insert product name and id                  \n",
        "    c.execute(f'''\n",
        "       INSERT OR   REPLACE INTO numbers (product_id, number)\n",
        "\n",
        "                VALUES\n",
        "                ({x},{y})\n",
        "          ''')\n",
        "  if x == -1:\n",
        "    break\n",
        "  conn.commit()"
      ],
      "metadata": {
        "colab": {
          "base_uri": "https://localhost:8080/"
        },
        "id": "Vld2XH11FmUd",
        "outputId": "f14ba135-d0ca-4f9a-bfa5-aef464bcd793"
      },
      "execution_count": 100,
      "outputs": [
        {
          "name": "stdout",
          "output_type": "stream",
          "text": [
            "z45\n"
          ]
        }
      ]
    }
  ]
}