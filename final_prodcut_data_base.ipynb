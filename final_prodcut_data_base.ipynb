{
  "nbformat": 4,
  "nbformat_minor": 0,
  "metadata": {
    "colab": {
      "provenance": []
    },
    "kernelspec": {
      "name": "python3",
      "display_name": "Python 3"
    },
    "language_info": {
      "name": "python"
    }
  },
  "cells": [
    {
      "cell_type": "code",
      "execution_count": 1,
      "metadata": {
        "colab": {
          "base_uri": "https://localhost:8080/"
        },
        "id": "yrGTUHQYRxQH",
        "outputId": "e5816d4d-4c22-4184-ac43-3c74b533fa9a"
      },
      "outputs": [
        {
          "output_type": "stream",
          "name": "stdout",
          "text": [
            "table created\n"
          ]
        }
      ],
      "source": [
        "#create data base function\n",
        "import sqlite3 #import function sqlite3\n",
        "\n",
        "conn = sqlite3.connect('table') #connect sqlite3 \n",
        "c = conn.cursor()\n",
        "#create table for product_id\n",
        "c.execute('''\n",
        "          CREATE TABLE IF NOT EXISTS products\n",
        "          ([product_id] INTEGER PRIMARY KEY, [product_name] TEXT)\n",
        "          ''')\n",
        "#create table for prices\n",
        "c.execute('''\n",
        "          CREATE TABLE IF NOT EXISTS prices\n",
        "          ([product_id] INTEGER PRIMARY KEY, [price] INTEGER)\n",
        "          ''')\n",
        "#create table for number\n",
        "c.execute('''\n",
        "          CREATE TABLE IF NOT EXISTS numbers\n",
        "          ([product_id] INTEGER PRIMARY KEY, [number] INTEGER)\n",
        "          ''')\n",
        "conn.commit()\n",
        "#show  status\n",
        "print(\"table created\")"
      ]
    },
    {
      "cell_type": "code",
      "source": [
        "#function insert value in data base\n",
        "import sqlite3 #import smqlite3\n",
        "select_colum = int(input('colum id')) #input colum id to select colum\n",
        "#insert product_id and name\n",
        "if select_colum == 000:  #code to select colum\n",
        "  password = int(input('password'))\n",
        "  while password == 123:  #while loop to insert value\n",
        "    product_id = int(input('productID')) #insert product id\n",
        "    product_name = input('productNAME') #insert product name\n",
        "    if product_id >= 0:  #check value product id >=0\n",
        "      conn = sqlite3.connect('table')\n",
        "      c = conn.cursor()\n",
        "      c.execute(f'''\n",
        "              INSERT  INTO products (product_id, product_name) \n",
        "                          VALUES\n",
        "                          ({product_id},'{product_name}') \n",
        "                          ''') #insert produuct name and id to data base\n",
        "    if product_id == -1: #break function\n",
        "        break\n",
        "conn.commit()\n",
        "if select_colum == 456:  #code to select colum\n",
        "  password = int(input('password'))\n",
        "  while password == 123: #while loop for insert value in data base\n",
        "    product_id = int(input('product_id')) #insert product id\n",
        "    number = int(input('number')) #insert product name\n",
        "    if product_id and number >= 0:#check product id and number  value\n",
        "      conn = sqlite3.connect('table') \n",
        "      c = conn.cursor()\n",
        "      #insert product id and number                 \n",
        "      c.execute(f'''\n",
        "        INSERT OR   REPLACE INTO numbers (product_id, number)\n",
        "\n",
        "                  VALUES\n",
        "                  ({product_id},{number})\n",
        "            ''')\n",
        "    if product_id == -1: #break function\n",
        "      break\n",
        "    conn.commit()\n",
        "      #loop input product id and price\n",
        "if select_colum == 789: # code to select colum\n",
        "  password = int(input('password'))\n",
        "  while password == 123: # while loop to insert product id and price\n",
        "    product_id = int(input('product_id'))\n",
        "    price = int(input('price'))\n",
        "    if product_id and price >= 0:#check product id and  price >=0\n",
        "      conn = sqlite3.connect('table') \n",
        "      c = conn.cursor()\n",
        "      #insert product id and price                \n",
        "      c.execute(f'''\n",
        "        INSERT OR   REPLACE INTO prices (product_id, price)\n",
        "\n",
        "                  VALUES\n",
        "                  ({product_id},{price})\n",
        "            ''')\n",
        "    if product_id == -1: #break function\n",
        "      break\n",
        "     \n",
        "    conn.commit()\n",
        "print(\"insert done\") # print status"
      ],
      "metadata": {
        "colab": {
          "base_uri": "https://localhost:8080/"
        },
        "id": "PvwIxHqASEOb",
        "outputId": "4338d056-12f7-43ba-8292-99529f54f765"
      },
      "execution_count": 5,
      "outputs": [
        {
          "output_type": "stream",
          "name": "stdout",
          "text": [
            "colum id789\n",
            "password123\n",
            "product_id1\n",
            "price5252525\n",
            "product_id-1\n",
            "price1\n",
            "insert done\n"
          ]
        }
      ]
    },
    {
      "cell_type": "code",
      "source": [
        "#show value in data base\n",
        "import sqlite3\n",
        "import pandas as pd\n",
        "\n",
        "conn = sqlite3.connect('table')\n",
        "c = conn.cursor()\n",
        "            #show product_name  price and number\n",
        "c.execute('''\n",
        "            SELECT\n",
        "            a.product_name,\n",
        "            b.price,\n",
        "            d.number\n",
        "            FROM products a\n",
        "            LEFT JOIN prices b ON a.product_id = b.product_id\n",
        "            LEFT JOIN numbers d ON a.product_id = d.product_id\n",
        "            ''')\n",
        "df = pd.DataFrame(c.fetchall(), columns=['product_name','prices','number'])\n",
        "print(df) #print value in data base"
      ],
      "metadata": {
        "colab": {
          "base_uri": "https://localhost:8080/"
        },
        "id": "5Vd9HHczUY6x",
        "outputId": "2062a001-81fd-4e48-9781-4b6ce3b3a249"
      },
      "execution_count": 6,
      "outputs": [
        {
          "output_type": "stream",
          "name": "stdout",
          "text": [
            "  product_name   prices  number\n",
            "0         Rois  5252525   99999\n"
          ]
        }
      ]
    }
  ]
}