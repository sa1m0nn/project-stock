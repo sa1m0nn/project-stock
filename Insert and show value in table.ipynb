{
  "nbformat": 4,
  "nbformat_minor": 0,
  "metadata": {
    "colab": {
      "provenance": [],
      "collapsed_sections": []
    },
    "kernelspec": {
      "name": "python3",
      "display_name": "Python 3"
    },
    "language_info": {
      "name": "python"
    }
  },
  "cells": [
    {
      "cell_type": "code",
      "execution_count": 2,
      "metadata": {
        "id": "V3PJK_jc5sNm",
        "colab": {
          "base_uri": "https://localhost:8080/"
        },
        "outputId": "2e85201b-3457-424a-bb85-c03d4a37f26c"
      },
      "outputs": [
        {
          "output_type": "stream",
          "name": "stdout",
          "text": [
            "table created\n"
          ]
        }
      ],
      "source": [
        "import sqlite3\n",
        "\n",
        "conn = sqlite3.connect('table') \n",
        "c = conn.cursor()\n",
        "#create table for product_id\n",
        "c.execute('''\n",
        "          CREATE TABLE IF NOT EXISTS products\n",
        "          ([product_id] INTEGER PRIMARY KEY, [product_name] TEXT)\n",
        "          ''')\n",
        "#create table for prices\n",
        "c.execute('''\n",
        "          CREATE TABLE IF NOT EXISTS prices\n",
        "          ([product_id] INTEGER PRIMARY KEY, [price] INTEGER)\n",
        "          ''')\n",
        "#create table for number\n",
        "c.execute('''\n",
        "          CREATE TABLE IF NOT EXISTS numbers\n",
        "          ([product_id] INTEGER PRIMARY KEY, [number] INTEGER)\n",
        "          ''')\n",
        "conn.commit()\n",
        "#show  status\n",
        "print(\"table created\")"
      ]
    },
    {
      "cell_type": "code",
      "source": [
        "x = int(input('x'))\n",
        "import sqlite3\n",
        "\n",
        "conn = sqlite3.connect('table') \n",
        "c = conn.cursor()\n",
        " #insert product name and id                  \n",
        "c.execute(f'''\n",
        "    INSERT OR REPLACE INTO numbers (product_id, number)\n",
        "\n",
        "                VALUES\n",
        "                (1,{x})\n",
        "          ''')\n",
        "conn.commit()\n"
      ],
      "metadata": {
        "colab": {
          "base_uri": "https://localhost:8080/"
        },
        "id": "wYfzLywX6r8v",
        "outputId": "88af239c-3ba6-4ced-8607-10ff64d12ea2"
      },
      "execution_count": null,
      "outputs": [
        {
          "name": "stdout",
          "output_type": "stream",
          "text": [
            "x56\n"
          ]
        }
      ]
    },
    {
      "cell_type": "code",
      "source": [
        "#test if else\n",
        "x = int(input('x'))\n",
        "if x >= 0:\n",
        "  y = int(input('y'))\n",
        "else: \n",
        "  print(\"false\")\n",
        "if y >= 0:\n",
        "  z = int(input('z'))\n",
        "if z >= 0:\n",
        "  a = int(input('a'))\n",
        "if a >= 0:45    \n",
        "  print(\"correct\")\n",
        "else: \n",
        "  print(\"false\")"
      ],
      "metadata": {
        "colab": {
          "base_uri": "https://localhost:8080/",
          "height": 131
        },
        "id": "0uCG02RcEgGX",
        "outputId": "5c8ebf30-1807-42ab-ff3c-fbf9642db11a"
      },
      "execution_count": null,
      "outputs": [
        {
          "output_type": "error",
          "ename": "IndentationError",
          "evalue": "ignored",
          "traceback": [
            "\u001b[0;36m  File \u001b[0;32m\"<ipython-input-11-5ea8bab4e118>\"\u001b[0;36m, line \u001b[0;32m12\u001b[0m\n\u001b[0;31m    print(\"correct\")\u001b[0m\n\u001b[0m    ^\u001b[0m\n\u001b[0;31mIndentationError\u001b[0m\u001b[0;31m:\u001b[0m unexpected indent\n"
          ]
        }
      ]
    },
    {
      "cell_type": "code",
      "source": [
        "import sqlite3\n",
        "\n",
        "conn = sqlite3.connect('table') \n",
        "c = conn.cursor()\n",
        " #insert product name and id                  \n",
        "c.execute('''\n",
        "          INSERT INTO products (product_id, product_name)\n",
        "\n",
        "                VALUES\n",
        "                (1,'Computer'),\n",
        "                (2,'Printer'),\n",
        "                (3,'Tablet'),\n",
        "                (4,'Desk'),\n",
        "                (5,'Chair')\n",
        "          ''')\n",
        "#insert product id and price\n",
        "c.execute('''\n",
        "          INSERT INTO prices (product_id, price)\n",
        "\n",
        "                VALUES\n",
        "                (1,80),\n",
        "                (2,20),\n",
        "                (3,30),\n",
        "                (4,45),\n",
        "                (5,15)\n",
        "          ''')\n",
        "#insert product id and number\n",
        "c.execute('''\n",
        "            INSERT INTO numbers (product_id, number)\n",
        "          \n",
        "                VALUES\n",
        "                (1,6),\n",
        "                (2,8),\n",
        "                (3,9),\n",
        "                (4,10),\n",
        "                (5,7)          \n",
        "          ''')\n",
        "conn.commit()"
      ],
      "metadata": {
        "id": "8uiz2hm9jA74"
      },
      "execution_count": null,
      "outputs": []
    },
    {
      "cell_type": "code",
      "source": [
        "#loop input product id and number\n",
        "import sqlite3\n",
        "z = int(input('z'))\n",
        "while z == 123:\n",
        "  x = int(input('x'))\n",
        "  y = int(input('y'))\n",
        "  if x and y >= 0:#check x and y\n",
        "    conn = sqlite3.connect('table') \n",
        "    c = conn.cursor()\n",
        "    #insert product name and id                  \n",
        "    c.execute(f'''\n",
        "       INSERT OR   REPLACE INTO numbers (product_id, number)\n",
        "\n",
        "                VALUES\n",
        "                ({x},{y})\n",
        "          ''')\n",
        "  if x == -1:\n",
        "    break\n",
        "  conn.commit()"
      ],
      "metadata": {
        "id": "Vld2XH11FmUd"
      },
      "execution_count": null,
      "outputs": []
    },
    {
      "cell_type": "code",
      "source": [
        "#test casae 3 table\n",
        "import sqlite3\n",
        "import pandas as pd\n",
        "\n",
        "conn = sqlite3.connect('table')\n",
        "c = conn.cursor()\n",
        "            #shhhow product_name  price and number\n",
        "c.execute('''\n",
        "            SELECT\n",
        "            a.product_name,\n",
        "            b.price,\n",
        "            d.number\n",
        "            FROM products a\n",
        "            LEFT JOIN prices b ON a.product_id = b.product_id\n",
        "            LEFT JOIN numbers d ON a.product_id = d.product_id\n",
        "            ''')\n",
        "df = pd.DataFrame(c.fetchall(), columns=['product_name','prices','number'])\n",
        "print(df)"
      ],
      "metadata": {
        "colab": {
          "base_uri": "https://localhost:8080/"
        },
        "id": "fXT9y5DAg5OP",
        "outputId": "be199156-3a2a-479f-c1b1-13791f51608d"
      },
      "execution_count": 21,
      "outputs": [
        {
          "output_type": "stream",
          "name": "stdout",
          "text": [
            "  product_name       prices     number\n",
            "0           -1          NaN        NaN\n",
            "1        Erwrw     566666.0    70000.0\n",
            "2         ROIS  525252525.0   555555.0\n",
            "3        MEEDA     999999.0  4554545.0\n"
          ]
        }
      ]
    },
    {
      "cell_type": "code",
      "source": [
        "#test loop input product id and number\n",
        "import sqlite3\n",
        "select_colum = int(input('colum id'))\n",
        "#insert product_id and name\n",
        "if select_colum == 000:\n",
        "  password = int(input('password'))\n",
        "  while password == 123:\n",
        "    product_id = int(input('productID'))\n",
        "    product_name = input('productNAME')\n",
        "    if product_id >= 0:\n",
        "      conn = sqlite3.connect('table')\n",
        "      c = conn.cursor()\n",
        "      c.execute(f'''\n",
        "              INSERT  INTO products (product_id, product_name)\n",
        "                          VALUES\n",
        "                          ({product_id},'{product_name}')\n",
        "                          ''')\n",
        "    if product_id == -1:\n",
        "        break\n",
        "conn.commit()\n",
        "if select_colum == 456:  \n",
        "  password = int(input('password'))\n",
        "  while password == 123:\n",
        "    product_id = int(input('product_id'))\n",
        "    number = int(input('number'))\n",
        "    if product_id and number >= 0:#check x and y\n",
        "      conn = sqlite3.connect('table') \n",
        "      c = conn.cursor()\n",
        "      #insert product id and number                 \n",
        "      c.execute(f'''\n",
        "        INSERT OR   REPLACE INTO numbers (product_id, number)\n",
        "\n",
        "                  VALUES\n",
        "                  ({product_id},{number})\n",
        "            ''')\n",
        "    if product_id == -1:\n",
        "      break\n",
        "    conn.commit()\n",
        "      #loop input product id and price\n",
        "if select_colum == 789:\n",
        "  password = int(input('password'))\n",
        "  while password == 123:\n",
        "    product_id = int(input('product_id'))\n",
        "    price = int(input('price'))\n",
        "    if product_id and price >= 0:#check x and y\n",
        "      conn = sqlite3.connect('table') \n",
        "      c = conn.cursor()\n",
        "      #insert product id and price                \n",
        "      c.execute(f'''\n",
        "        INSERT OR   REPLACE INTO prices (product_id, price)\n",
        "\n",
        "                  VALUES\n",
        "                  ({product_id},{price})\n",
        "            ''')\n",
        "    if product_id == -1:\n",
        "      break\n",
        "     \n",
        "    conn.commit()"
      ],
      "metadata": {
        "colab": {
          "base_uri": "https://localhost:8080/"
        },
        "id": "EWJ-9LLjYsSf",
        "outputId": "5ce761b6-4390-41fe-85de-6b77b76cc314"
      },
      "execution_count": 24,
      "outputs": [
        {
          "name": "stdout",
          "output_type": "stream",
          "text": [
            "colum id000\n",
            "password123\n",
            "productID-1\n",
            "productNAME-1\n"
          ]
        }
      ]
    },
    {
      "cell_type": "code",
      "source": [
        "import sqlite3\n",
        "conn = sqlite3.connect('table')\n",
        "c = conn.cursor()\n",
        "if select_colum == 000:\n",
        "  password = int(input('password'))\n",
        "  while password == 123:\n",
        "    product_id = int(input('productID'))\n",
        "    product_name = input('productNAME')\n",
        "    c.execute(f'''\n",
        "            INSERT  INTO products (product_id, product_name)\n",
        "                        VALUES\n",
        "                        ({product_id},'{product_name}')\n",
        "                        ''')\n",
        "    if product_id == -1:\n",
        "      break\n",
        "conn.commit()"
      ],
      "metadata": {
        "colab": {
          "base_uri": "https://localhost:8080/"
        },
        "id": "Htx9cBbKdZEy",
        "outputId": "cd94857e-e24c-40de-c17a-d01d2e5db29a"
      },
      "execution_count": 10,
      "outputs": [
        {
          "name": "stdout",
          "output_type": "stream",
          "text": [
            "productID2\n",
            "productNAMEErwrw\n"
          ]
        }
      ]
    }
  ]
}