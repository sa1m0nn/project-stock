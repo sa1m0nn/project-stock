{
  "nbformat": 4,
  "nbformat_minor": 0,
  "metadata": {
    "colab": {
      "provenance": [],
      "collapsed_sections": []
    },
    "kernelspec": {
      "name": "python3",
      "display_name": "Python 3"
    },
    "language_info": {
      "name": "python"
    }
  },
  "cells": [
    {
      "cell_type": "code",
      "source": [
        "import sqlite3\n",
        "\n",
        "conn = sqlite3.connect('test_database') \n",
        "c = conn.cursor()\n",
        "#create table for product_id\n",
        "c.execute('''\n",
        "          CREATE TABLE IF NOT EXISTS products\n",
        "          ([product_id] INTEGER PRIMARY KEY, [product_name] TEXT)\n",
        "          ''')\n",
        "#create table for prices\n",
        "c.execute('''\n",
        "          CREATE TABLE IF NOT EXISTS prices\n",
        "          ([product_id] INTEGER PRIMARY KEY, [price] INTEGER)\n",
        "          ''')\n",
        "#create table for number\n",
        "c.execute('''\n",
        "          CREATE TABLE IF NOT EXISTS numbers\n",
        "          ([product_id] INTEGER PRIMARY KEY, [number] INTEGER)\n",
        "          ''')\n",
        "conn.commit()\n",
        "#show  status\n",
        "print(\"table created\")"
      ],
      "metadata": {
        "id": "kkaZB6qSiYkB",
        "colab": {
          "base_uri": "https://localhost:8080/"
        },
        "outputId": "a7a78572-5373-4eeb-80f0-3e48a3c65227"
      },
      "execution_count": null,
      "outputs": [
        {
          "output_type": "stream",
          "name": "stdout",
          "text": [
            "table created\n"
          ]
        }
      ]
    },
    {
      "cell_type": "code",
      "source": [
        "import sqlite3\n",
        "\n",
        "conn = sqlite3.connect('test_database') \n",
        "c = conn.cursor()\n",
        " #insert product name and id                  \n",
        "c.execute('''\n",
        "          REPLACE INTO products (product_id, product_name)\n",
        "\n",
        "                VALUES\n",
        "                (1,'Computer'),\n",
        "                (2,'Printer'),\n",
        "                (3,'Tablet'),\n",
        "                (4,'Desk'),\n",
        "                (5,'Chair')\n",
        "          ''')\n",
        "#insert product id and price\n",
        "c.execute('''\n",
        "          REPLACE INTO prices (product_id, price)\n",
        "\n",
        "                VALUES\n",
        "                (1,80),\n",
        "                (2,20),\n",
        "                (3,30),\n",
        "                (4,45),\n",
        "                (5,15)\n",
        "          ''')\n",
        "#insert product id and number\n",
        "c.execute('''\n",
        "            REPLACE  INTO numbers (product_id, number)\n",
        "          \n",
        "                VALUES\n",
        "                (1,6),\n",
        "                (2,8),\n",
        "                (3,9),\n",
        "                (4,10),\n",
        "                (5,7)          \n",
        "          ''')\n",
        "conn.commit()"
      ],
      "metadata": {
        "id": "q19mK9fIkFZR"
      },
      "execution_count": null,
      "outputs": []
    },
    {
      "cell_type": "code",
      "source": [
        "import sqlite3\n",
        "import pandas as pd\n",
        "\n",
        "conn = sqlite3.connect('test_database') \n",
        "c = conn.cursor()\n",
        "                   #show product_name and price\n",
        "c.execute('''\n",
        "          SELECT\n",
        "          a.product_name,\n",
        "          b.price\n",
        "          FROM products a\n",
        "          LEFT JOIN prices b  ON a.product_id = b.product_id \n",
        "          ''')\n",
        "df = pd.DataFrame(c.fetchall(), columns=['product_name','price'])\n",
        "print (df)\n",
        "import sqlite3\n",
        "import pandas as pd\n",
        "#show product_name and number\n",
        "conn = sqlite3.connect('test_database') \n",
        "c = conn.cursor()\n",
        "                   \n",
        "c.execute('''\n",
        "          SELECT\n",
        "          a.product_name,\n",
        "          d.number\n",
        "          FROM products a\n",
        "          LEFT JOIN numbers d ON a.product_id = d.product_id \n",
        "          ''')\n",
        "\n",
        "df = pd.DataFrame(c.fetchall(), columns=['product_name','number'])\n",
        "print (df)"
      ],
      "metadata": {
        "id": "6TqIgRdplPtd"
      },
      "execution_count": null,
      "outputs": []
    },
    {
      "cell_type": "code",
      "source": [
        "#test 2 table insert product_id and numbers\n",
        "import sqlite3\n",
        "\n",
        "conn = sqlite3.connect('test_database') \n",
        "c = conn.cursor()\n",
        "                   \n",
        "c.execute('''\n",
        "          INSERT OR REPLACE INTO numbers (product_id, number)\n",
        "\n",
        "                VALUES\n",
        "                (1,9),\n",
        "                (2,7),\n",
        "                (3,3),\n",
        "                (4,5),\n",
        "                (5,11)\n",
        "          ''')\n",
        "conn.commit()"
      ],
      "metadata": {
        "id": "CeqOLUY_y9ON"
      },
      "execution_count": null,
      "outputs": []
    },
    {
      "cell_type": "code",
      "source": [
        "#test 2 table product_id and numbers\n",
        "import sqlite3\n",
        "import pandas as pd\n",
        "\n",
        "conn = sqlite3.connect('test_database') \n",
        "c = conn.cursor()\n",
        "                   \n",
        "c.execute('''\n",
        "          SELECT\n",
        "          a.product_id,\n",
        "          d.number\n",
        "          FROM products a\n",
        "          LEFT JOIN numbers d ON a.product_id = d.product_id\n",
        "          ''')\n",
        "\n",
        "df = pd.DataFrame(c.fetchall(), columns=['product_id','number'])\n",
        "print (df)"
      ],
      "metadata": {
        "id": "vZu76KKUzkFT"
      },
      "execution_count": null,
      "outputs": []
    },
    {
      "cell_type": "code",
      "source": [
        "#test case 3 table\n",
        "import sqlite3\n",
        "import pandas as pd\n",
        "\n",
        "conn = sqlite3.connect('test_database') \n",
        "c = conn.cursor()\n",
        "                   #show product_name and price\n",
        "c.execute('''\n",
        "          SELECT\n",
        "          a.product_name,\n",
        "          b.price,\n",
        "          d.number\n",
        "          FROM products a\n",
        "          LEFT JOIN prices b, numbers d  ON a.product_id = b.product_id = d.product_id \n",
        "          ''')\n",
        "df = pd.DataFrame(c.fetchall(), columns=['product_name','price', 'number'])\n",
        "print (df)\n"
      ],
      "metadata": {
        "id": "LqJ-7wm6_FFK",
        "colab": {
          "base_uri": "https://localhost:8080/"
        },
        "outputId": "bcd98471-d892-4fbe-cb15-316346dd8e89"
      },
      "execution_count": null,
      "outputs": [
        {
          "output_type": "stream",
          "name": "stdout",
          "text": [
            "  product_name  price  number\n",
            "0     Computer     80       6\n",
            "1      Printer     20       6\n",
            "2       Tablet     30       6\n",
            "3         Desk     45       6\n",
            "4        Chair     15       6\n"
          ]
        }
      ]
    },
    {
      "cell_type": "code",
      "source": [
        "#test 2 table prices and numbers \n",
        "import sqlite3\n",
        "import pandas as pd\n",
        "#show product_name and number\n",
        "conn = sqlite3.connect('test_database') \n",
        "c = conn.cursor()\n",
        "                   \n",
        "c.execute('''\n",
        "          SELECT\n",
        "          b.price,\n",
        "          d.number,\n",
        "          a.product_id\n",
        "          FROM prices b \n",
        "          LEFT JOIN numbers d,products a ON b.product_id = d.product_id = a.product_id\n",
        "          ''')\n",
        "\n",
        "df = pd.DataFrame(c.fetchall(), columns=['price','number','product_id'])\n",
        "print (df)"
      ],
      "metadata": {
        "id": "IAbZkRCuBhrD"
      },
      "execution_count": null,
      "outputs": []
    },
    {
      "cell_type": "code",
      "source": [
        "#test case show all colum  in table\n",
        "# Import module\n",
        "import sqlite3\n",
        "  \n",
        "# Connecting to sqlite\n",
        "conn = sqlite3.connect('test_database')\n",
        "  \n",
        "# Creating a cursor object using the cursor() method\n",
        "cursor = conn.cursor()\n",
        "  \n",
        "  \n",
        "# Display columns\n",
        "print('\\nColumns in products table:')\n",
        "data=cursor.execute('''SELECT * FROM PRODUCTS''')\n",
        "for column in data.description:\n",
        "    print(column[0])\n",
        "      \n",
        "# Display data\n",
        "print('\\nData in products table:')\n",
        "data=cursor.execute('''SELECT * FROM PRODUCTS''')\n",
        "for row in data:\n",
        "    print(row)\n",
        "      \n",
        "# Commit your changes in the database    \n",
        "conn.commit()\n",
        "  \n",
        "# Closing the connection\n",
        "conn.close()"
      ],
      "metadata": {
        "id": "XD3r1z_dEpTS"
      },
      "execution_count": null,
      "outputs": []
    },
    {
      "cell_type": "code",
      "source": [
        "#test casae 3 table\n",
        "import sqlite3\n",
        "import pandas as pd\n",
        "\n",
        "conn = sqlite3.connect('test_database')\n",
        "c = conn.cursor()\n",
        "            #shhhow product_name  price and number\n",
        "c.execute('''\n",
        "            SELECT\n",
        "            a.product_name,\n",
        "            b.price,\n",
        "            d.number\n",
        "            FROM products a\n",
        "            LEFT JOIN prices b ON a.product_id = b.product_id\n",
        "            LEFT JOIN numbers d ON a.product_id = d.product_id\n",
        "            ''')\n",
        "df = pd.DataFrame(c.fetchall(), columns=['product_name','prices','number'])\n",
        "print(df)"
      ],
      "metadata": {
        "colab": {
          "base_uri": "https://localhost:8080/"
        },
        "id": "XtcUIYTnh3xB",
        "outputId": "ff7be85e-3a8d-40f9-9266-4c877f68b28a"
      },
      "execution_count": null,
      "outputs": [
        {
          "output_type": "stream",
          "name": "stdout",
          "text": [
            "  product_name  prices  number\n",
            "0     Computer      80       9\n",
            "1      Printer      20       7\n",
            "2       Tablet      30       3\n",
            "3         Desk      45       5\n",
            "4        Chair      15      11\n"
          ]
        }
      ]
    }
  ]
}